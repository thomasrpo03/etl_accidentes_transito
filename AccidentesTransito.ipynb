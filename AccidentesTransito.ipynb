{
 "cells": [
  {
   "cell_type": "markdown",
   "metadata": {},
   "source": [
    "# ETL Accidentes de Tránsito Reportados en Antioquia"
   ]
  },
  {
   "cell_type": "code",
   "execution_count": 29,
   "metadata": {},
   "outputs": [],
   "source": [
    "# %pip install pandas\n",
    "# %pip install unidecode"
   ]
  },
  {
   "cell_type": "code",
   "execution_count": 30,
   "metadata": {},
   "outputs": [],
   "source": [
    "#  Importar librerias\n",
    "import pandas as pd\n",
    "from unidecode import unidecode\n",
    "import re"
   ]
  },
  {
   "cell_type": "code",
   "execution_count": 31,
   "metadata": {},
   "outputs": [],
   "source": [
    "# Cargar datos\n",
    "df = pd.read_csv(\"Accidentes_de_transito_reportados_en_Antioquia.csv\")"
   ]
  },
  {
   "cell_type": "code",
   "execution_count": 32,
   "metadata": {},
   "outputs": [],
   "source": [
    "# TRANSFORMACION Y LIMPIEZA DE DATOS\n",
    "# FECHA ACCIDENTE\n",
    "# CONVERTIR LA FECHA A FORMATO DATETIME\n",
    "df[\"FECHA ACCIDENTE\"] = pd.to_datetime(df[\"FECHA ACCIDENTE\"], format=\"%d/%m/%Y\")\n",
    "\n",
    "# OBTENER AÑO, MES Y DIA\n",
    "df[\"AÑO\"] = df[\"FECHA ACCIDENTE\"].dt.year\n",
    "df[\"MES\"] = df[\"FECHA ACCIDENTE\"].dt.month\n",
    "df[\"DIA\"] = df[\"FECHA ACCIDENTE\"].dt.day\n",
    "\n",
    "# OBTENER DIA DE LA SEMANA\n",
    "df[\"DIA DE LA SEMANA\"] = df[\"FECHA ACCIDENTE\"].dt.day_name()\n",
    "\n",
    "# TRADUCIR EL DIA DE LA SEMANA A ESPAÑOL Y PASARLOS A MAYUSCULAS\n",
    "dicc_espanol = {\n",
    "    \"Monday\": \"LUNES\",\n",
    "    \"Tuesday\": \"MARTES\",\n",
    "    \"Wednesday\": \"MIERCOLES\",\n",
    "    \"Thursday\": \"JUEVES\",\n",
    "    \"Friday\": \"VIERNES\",\n",
    "    \"Saturday\": \"SABADO\",\n",
    "    \"Sunday\": \"DOMINGO\",\n",
    "}\n",
    "\n",
    "# MAPEAR LA COLUMNA DEL DIA DE LA SEMANA CON EL DICCIONARIO\n",
    "df[\"DIA DE LA SEMANA\"] = df[\"DIA DE LA SEMANA\"].map(dicc_espanol)"
   ]
  },
  {
   "cell_type": "code",
   "execution_count": 33,
   "metadata": {},
   "outputs": [],
   "source": [
    "# HORA ACCIDENTE\n",
    "# CONVERTIR LA HORA A FORMATO TIME\n",
    "\n",
    "df[\"HORA ACCIDENTE\"] = pd.to_datetime(\n",
    "    df[\"HORA ACCIDENTE\"], format=\"%H:%M\", errors=\"coerce\"\n",
    ").dt.time"
   ]
  },
  {
   "cell_type": "code",
   "execution_count": 34,
   "metadata": {},
   "outputs": [],
   "source": [
    "# GRAVEDAD\n",
    "# MAPEAR LOS VALORES DE LA GRAVEDAD\n",
    "\n",
    "dicc_gravedad = {\"d\": \"SOLO DAÑOS\", \"h\": \"HERIDOS\", \"m\": \"MUERTOS\"}\n",
    "\n",
    "\n",
    "\n",
    "df[\"GRAVEDAD\"] = df[\"GRAVEDAD\"].map(dicc_gravedad)"
   ]
  },
  {
   "cell_type": "code",
   "execution_count": 35,
   "metadata": {},
   "outputs": [],
   "source": [
    "# CLASE ACCIDENTE\n",
    "# ELIMINAR TILDES Y/O CARACTERES ESPECIALES\n",
    "df[\"CLASE ACCIDENTE\"] = df[\"CLASE ACCIDENTE\"].apply(unidecode)"
   ]
  },
  {
   "cell_type": "code",
   "execution_count": 36,
   "metadata": {},
   "outputs": [],
   "source": [
    "# CAUSANTE ACCIDENTE\n",
    "# PASAR A MAYUSCULAS LOS VALORES\n",
    "df[\"CAUSANTE ACCIDENTE\"] = df[\"CAUSANTE ACCIDENTE\"].str.upper()"
   ]
  },
  {
   "cell_type": "code",
   "execution_count": 37,
   "metadata": {},
   "outputs": [],
   "source": [
    "# DESCRIPCIÓN COLISIONANTE\n",
    "# PASAR A MAYSUCULAS LOS VALORES Y ELIMINAR TILDES Y/O CARACTERES ESPECIALES\n",
    "df[\"DESCRIPCIÓN COLISIONANTE\"] = (\n",
    "    df[\"DESCRIPCIÓN COLISIONANTE\"].str.upper().apply(unidecode)\n",
    ")"
   ]
  },
  {
   "cell_type": "code",
   "execution_count": 38,
   "metadata": {},
   "outputs": [],
   "source": [
    "# DESCRIPCIÓN OBJETO FIJO\n",
    "# ELIMINAR TILDES Y/O CARACTERES ESPECIALES Y LOS VALORES DE NO REPORTADO YA QUE NO APLICAN PARA LA VISUALIZACIÓN DE LOS DATOS\n",
    "df[\"DESCRIPCIÓN OBJETO FIJO\"] = df[\"DESCRIPCIÓN OBJETO FIJO\"].apply(unidecode).replace(\n",
    "    \"NO REPORTADO\", pd.NA\n",
    ")"
   ]
  },
  {
   "cell_type": "code",
   "execution_count": 39,
   "metadata": {},
   "outputs": [],
   "source": [
    "# ZONA ACCIDENTE\n",
    "# ELIMINAR TILDES Y/O CARACTERES ESPECIALES Y PASAR A MAYUSCULAS\n",
    "df['ZONA ACCIDENTE'] = df['ZONA ACCIDENTE'].apply(unidecode).str.upper()"
   ]
  },
  {
   "cell_type": "code",
   "execution_count": 40,
   "metadata": {},
   "outputs": [],
   "source": [
    "# DESCRIPCION DE ESTADO\n",
    "# ELIMINAR TILDES Y/O CARACTERES ESPECIALES Y PASAR A MAYUSCULAS\n",
    "df['DESCRIPCIÓN DE ESTADO'] = df['DESCRIPCIÓN DE ESTADO'].str.upper().apply(unidecode)\n"
   ]
  },
  {
   "cell_type": "code",
   "execution_count": 41,
   "metadata": {},
   "outputs": [],
   "source": [
    "# ÁREA ACCIDENTE\n",
    "# ELIMINAR TILDES Y/O CARACTERES ESPECIALE Y PASAR A MAYUSCULAS\n",
    "df['ÁREA ACCIDENTE'] = df['ÁREA ACCIDENTE'].apply(unidecode).str.upper()"
   ]
  },
  {
   "cell_type": "code",
   "execution_count": 42,
   "metadata": {},
   "outputs": [],
   "source": [
    "# SECTOR ACCIDENTE\n",
    "# ELIMINAR TILDES Y/O CARACTERES ESPECIALES Y PASAR A MAYUSCULAS\n",
    "df['SECTOR ACCIDENTE'] = df['SECTOR ACCIDENTE'].str.upper()"
   ]
  },
  {
   "cell_type": "code",
   "execution_count": 43,
   "metadata": {},
   "outputs": [],
   "source": [
    "# DESCRIPCION LOCALIZACION\n",
    "# ELIMINAR TILDES Y/O CARACTERES ESPECIALES Y PASAR A MAYUSCULAS\n",
    "df['DESCRIPCIÓN LOCALIZACIÓN'] = df['DESCRIPCIÓN LOCALIZACIÓN'].apply(unidecode).str.upper()"
   ]
  },
  {
   "cell_type": "code",
   "execution_count": 44,
   "metadata": {},
   "outputs": [],
   "source": [
    "# ESTADO CLIMA\n",
    "# ELIMINAR TILDES Y/O CARACTERES ESPECIALES Y PASAR A MAYUSCULAS\n",
    "df['ESTADO CLIMA'] = df['ESTADO CLIMA'].apply(unidecode).str.upper()\n"
   ]
  },
  {
   "cell_type": "code",
   "execution_count": 49,
   "metadata": {},
   "outputs": [
    {
     "data": {
      "text/plain": [
       "array(['NO REPORTA', 'ABEJORRAL', 'SAN JERONIMO', 'PENOL', 'FREDONIA',\n",
       "       'CAICEDO', 'SAN VICENTE', 'GUATAPE', 'AMAGA', 'SANTA BARBARA',\n",
       "       'GUARNE', 'VENECIA', 'JARDIN', 'PUEBLO RICO', 'TAMESIS',\n",
       "       'VALPARAISO', 'GRANADA', 'ALEJANDRIA', 'COCORNA', 'CARAMANTA',\n",
       "       'BETANIA', 'SAN LUIS', 'TITIRIBI', 'BURITICA', 'SOPETRAN',\n",
       "       'JERICO', 'LA UNION', 'ITUANGO', 'CONCORDIA', 'LIBORINA',\n",
       "       'SANTA FE DE ANTIOQUIA', 'CACERES', 'ANZA', 'ANTIOQUIA'],\n",
       "      dtype=object)"
      ]
     },
     "execution_count": 49,
     "metadata": {},
     "output_type": "execute_result"
    }
   ],
   "source": [
    "# MUNICIPIO\n",
    "# FUNCION PARA LIMPIAR Y NORMALIZAR LOS NOMBRES DE LOS MUNICIPIOS\n",
    "corrected_names = {\n",
    "    \"SANTA BARBARA - ANT\": \"SANTA BARBARA\",\n",
    "    \"SANTABÁRBARA\": \"SANTA BARBARA\",\n",
    "    'STAFE DE ANTIOQUIA': 'SANTA FE DE ANTIOQUIA'\n",
    "}\n",
    "\n",
    "df[\"MUNICIPIO\"] = df[\"MUNICIPIO\"].replace(corrected_names).apply(unidecode)"
   ]
  },
  {
   "cell_type": "code",
   "execution_count": 54,
   "metadata": {},
   "outputs": [],
   "source": [
    "# DIRECCION LUGAR\n",
    "# ELIMIAR TILDES Y/O CARACTERES ESPECIALES\n",
    "df['DIRECCIÓN LUGAR'] = df['DIRECCIÓN LUGAR'].apply(unidecode)"
   ]
  },
  {
   "cell_type": "code",
   "execution_count": 59,
   "metadata": {},
   "outputs": [],
   "source": [
    "# COLUMNAS RELACIONADAS A LAS VICTIMAS\n",
    "# Verificación de valores nulos y reemplazo por 0 (si es apropiado)\n",
    "columns_victims = ['NUMERO VICTIMA PEATÓN', 'NUMERO VICTIMA ACOMPAÑANTE', 'NUMERO VICTIMA PASAJERO', 'NUMERO VICTIMA CONDUCTOR', 'NUMERO VICTIMA HERIDO', 'NUMERO VICTIMA MUERTO']\n",
    "df[columns_victims] = df[columns_victims].fillna(0)\n",
    "\n",
    "# Verificación de valores negativos y corrección\n",
    "for column in columns_victims:\n",
    "    df[column] = df[column].apply(lambda x: max(x, 0))\n",
    "\n",
    "# Suma total de víctimas por accidente\n",
    "df['TOTAL VÍCTIMAS'] = df[columns_victims].sum(axis=1)"
   ]
  }
 ],
 "metadata": {
  "kernelspec": {
   "display_name": "Python 3",
   "language": "python",
   "name": "python3"
  },
  "language_info": {
   "codemirror_mode": {
    "name": "ipython",
    "version": 3
   },
   "file_extension": ".py",
   "mimetype": "text/x-python",
   "name": "python",
   "nbconvert_exporter": "python",
   "pygments_lexer": "ipython3",
   "version": "3.12.2"
  }
 },
 "nbformat": 4,
 "nbformat_minor": 2
}
